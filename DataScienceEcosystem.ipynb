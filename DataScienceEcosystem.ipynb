{
 "cells": [
  {
   "cell_type": "markdown",
   "id": "d7c3f7db-a21a-452b-b419-a6bd5e8fc92e",
   "metadata": {},
   "source": [
    "# Data Science Tools and Ecosystem \n"
   ]
  },
  {
   "cell_type": "markdown",
   "id": "41826363-80c0-4691-9f39-d49902032f5c",
   "metadata": {},
   "source": [
    "Data Science, is the field of exploring, manipulating, and analyzing data to answer  questions or make recommendations. Thus, in this notebook, Data Science tools and Ecosystem are summarized. "
   ]
  },
  {
   "cell_type": "markdown",
   "id": "341d58b0-be5f-427d-a43c-c19ec95487a0",
   "metadata": {},
   "source": [
    "## **objectives:**\n",
    "- list popular languages for Data Science.\n",
    "- list commonly used libraries by Data Scientist.\n",
    "- Tabulate three development environment open source tools used in data science.\n",
    "- Evaluate some arithmetic expressions in python."
   ]
  },
  {
   "cell_type": "markdown",
   "id": "2633d46b-a888-43ab-90e2-c052c571d867",
   "metadata": {},
   "source": [
    "### Some of the popular languages that Data Scientist use are:\n",
    "1. Python\n",
    "2. R\n",
    "3. SQL\n",
    "4. Java\n",
    "5. C++"
   ]
  },
  {
   "cell_type": "markdown",
   "id": "d2e324be-8375-47a4-99f4-ecbf7e899001",
   "metadata": {},
   "source": [
    "### Some of the commonly used libraries use by Data Scientist include:\n",
    "1. Pandas\n",
    "2. Numpy\n",
    "3. Keras\n",
    "4. ggplot2"
   ]
  },
  {
   "cell_type": "markdown",
   "id": "be9d4c72-5c36-437c-9e15-cebd6ec0ea71",
   "metadata": {},
   "source": [
    "|Data Science tools|\n",
    "| ---------- |\n",
    "| Jupyter Notebook |\n",
    "| Visual Studio |\n",
    "| Google Colab |"
   ]
  },
  {
   "cell_type": "markdown",
   "id": "e946e70e-8f2b-480b-a4be-41072564f6a2",
   "metadata": {},
   "source": [
    "### Bellow are a few examples of evaluating arithmetic expressions in python."
   ]
  },
  {
   "cell_type": "code",
   "execution_count": 1,
   "id": "d69cafa1-0e21-44ea-8d2d-fee7adc31275",
   "metadata": {
    "tags": []
   },
   "outputs": [
    {
     "data": {
      "text/plain": [
       "17"
      ]
     },
     "execution_count": 1,
     "metadata": {},
     "output_type": "execute_result"
    }
   ],
   "source": [
    "# this a simple arithmetic expression to mulltiply then add integers\n",
    "(3*4)+5"
   ]
  },
  {
   "cell_type": "code",
   "execution_count": 2,
   "id": "177bb9ce-d410-4443-90e5-e264d7791c3f",
   "metadata": {
    "tags": []
   },
   "outputs": [
    {
     "data": {
      "text/plain": [
       "3.3333333333333335"
      ]
     },
     "execution_count": 2,
     "metadata": {},
     "output_type": "execute_result"
    }
   ],
   "source": [
    "# this will convert 200 minutes to hours diving by 60\n",
    "(200/60) "
   ]
  },
  {
   "cell_type": "markdown",
   "id": "1ec96a2b-e26c-4fed-ac97-2e59fa9b615c",
   "metadata": {},
   "source": [
    "## Author\n",
    "Carlos Murillo"
   ]
  },
  {
   "cell_type": "code",
   "execution_count": null,
   "id": "178cd27f-53e9-413c-b1ad-d66107ee7c8d",
   "metadata": {},
   "outputs": [],
   "source": []
  }
 ],
 "metadata": {
  "kernelspec": {
   "display_name": "Python",
   "language": "python",
   "name": "conda-env-python-py"
  },
  "language_info": {
   "codemirror_mode": {
    "name": "ipython",
    "version": 3
   },
   "file_extension": ".py",
   "mimetype": "text/x-python",
   "name": "python",
   "nbconvert_exporter": "python",
   "pygments_lexer": "ipython3",
   "version": "3.7.12"
  }
 },
 "nbformat": 4,
 "nbformat_minor": 5
}
